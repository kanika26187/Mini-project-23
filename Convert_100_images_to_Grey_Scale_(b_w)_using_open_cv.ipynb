{
  "nbformat": 4,
  "nbformat_minor": 0,
  "metadata": {
    "colab": {
      "provenance": [],
      "authorship_tag": "ABX9TyOO5is4K48iv+ecZYtCTnou",
      "include_colab_link": true
    },
    "kernelspec": {
      "name": "python3",
      "display_name": "Python 3"
    },
    "language_info": {
      "name": "python"
    }
  },
  "cells": [
    {
      "cell_type": "markdown",
      "metadata": {
        "id": "view-in-github",
        "colab_type": "text"
      },
      "source": [
        "<a href=\"https://colab.research.google.com/github/kanika26187/Mini-project-23/blob/main/Convert_100_images_to_Grey_Scale_(b_w)_using_open_cv.ipynb\" target=\"_parent\"><img src=\"https://colab.research.google.com/assets/colab-badge.svg\" alt=\"Open In Colab\"/></a>"
      ]
    },
    {
      "cell_type": "code",
      "source": [
        "import os\n",
        "import cv2\n",
        "import urllib.request\n",
        "import zipfile\n",
        "import shutil\n",
        "\n",
        "# Step 1: Download 100 flower images (~5MB ZIP)\n",
        "zip_url = \"https://github.com/chirag126/flower-resize-dataset/raw/main/flowers_100_small.zip\"\n",
        "zip_path = \"flowers_100_small.zip\"\n",
        "input_folder = \"input_images\"\n",
        "output_folder = \"resized_images\"\n",
        "\n",
        "# Clean old folders if they exist\n",
        "for folder in [input_folder, output_folder]:\n",
        "    if os.path.exists(folder):\n",
        "        shutil.rmtree(folder)\n",
        "\n",
        "# Download zip\n",
        "print(\"⬇️ Downloading 100 small flower images...\")\n",
        "urllib.request.urlretrieve(zip_url, zip_path)\n",
        "\n",
        "# Extract zip\n",
        "print(\"📦 Extracting...\")\n",
        "with zipfile.ZipFile(zip_path, 'r') as zip_ref:\n",
        "    zip_ref.extractall(input_folder)\n",
        "\n",
        "os.remove(zip_path)\n",
        "os.makedirs(output_folder, exist_ok=True)\n",
        "\n",
        "# Step 2: Resize images to 50%\n",
        "count = 0\n",
        "for filename in os.listdir(input_folder):\n",
        "    if filename.lower().endswith(('.jpg', '.jpeg', '.png')):\n",
        "        img_path = os.path.join(input_folder, filename)\n",
        "        img = cv2.imread(img_path)\n",
        "\n",
        "        if img is None:\n",
        "            print(f\"❌ Skipped: {filename}\")\n",
        "            continue\n",
        "\n",
        "        # Resize to 50%\n",
        "        new_width = img.shape[1] // 2\n",
        "        new_height = img.shape[0] // 2\n",
        "        resized = cv2.resize(img, (new_width, new_height))\n",
        "\n",
        "        # Save\n",
        "        out_path = os.path.join(output_folder, f\"resized_{filename}\")\n",
        "        cv2.imwrite(out_path, resized)\n",
        "        count += 1\n",
        "        print(f\"✅ Resized: {filename}\")\n",
        "\n",
        "print(f\"\\n🏁 Done! {count} images resized and saved to '{output_folder}/'\")\n"
      ],
      "metadata": {
        "id": "YAaGwfINPR98"
      },
      "execution_count": null,
      "outputs": []
    }
  ]
}